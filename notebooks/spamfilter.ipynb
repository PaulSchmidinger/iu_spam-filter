{
 "cells": [
  {
   "cell_type": "code",
   "execution_count": 62,
   "metadata": {},
   "outputs": [],
   "source": [
    "import pandas as pd\n",
    "import matplotlib.pyplot as plt\n",
    "import nltk\n",
    "from collections import Counter\n",
    "from nltk.tokenize import word_tokenize\n",
    "from nltk.corpus import stopwords\n",
    "from nltk.stem import PorterStemmer\n",
    "from sklearn.feature_extraction.text import TfidfVectorizer\n",
    "from sklearn.model_selection import train_test_split\n",
    "from imblearn.over_sampling import RandomOverSampler\n",
    "from imblearn.under_sampling import RandomUnderSampler\n",
    "from sklearn.linear_model import LogisticRegression\n",
    "from sklearn.naive_bayes import MultinomialNB\n",
    "from sklearn.ensemble import RandomForestClassifier\n",
    "from xgboost import XGBClassifier\n",
    "import joblib\n",
    "import numpy as np\n",
    "import re\n",
    "from sklearn.metrics import classification_report, confusion_matrix, accuracy_score, roc_curve, auc"
   ]
  },
  {
   "cell_type": "code",
   "execution_count": 31,
   "metadata": {},
   "outputs": [
    {
     "name": "stderr",
     "output_type": "stream",
     "text": [
      "[nltk_data] Downloading package punkt to\n",
      "[nltk_data]     /Users/paulschmidinger/nltk_data...\n",
      "[nltk_data]   Package punkt is already up-to-date!\n",
      "[nltk_data] Downloading package stopwords to\n",
      "[nltk_data]     /Users/paulschmidinger/nltk_data...\n",
      "[nltk_data]   Package stopwords is already up-to-date!\n"
     ]
    },
    {
     "data": {
      "text/plain": [
       "True"
      ]
     },
     "execution_count": 31,
     "metadata": {},
     "output_type": "execute_result"
    }
   ],
   "source": [
    "nltk.download('punkt')  # For word_tokenize\n",
    "nltk.download('stopwords')  # For stopwords"
   ]
  },
  {
   "cell_type": "code",
   "execution_count": 32,
   "metadata": {},
   "outputs": [],
   "source": [
    "# Load the dataset\n",
    "data = pd.read_csv('../data/SMSSpamCollection.csv', sep='\\t', header=None, names=['Label', 'Message'])"
   ]
  },
  {
   "cell_type": "code",
   "execution_count": 33,
   "metadata": {},
   "outputs": [
    {
     "data": {
      "text/html": [
       "<div>\n",
       "<style scoped>\n",
       "    .dataframe tbody tr th:only-of-type {\n",
       "        vertical-align: middle;\n",
       "    }\n",
       "\n",
       "    .dataframe tbody tr th {\n",
       "        vertical-align: top;\n",
       "    }\n",
       "\n",
       "    .dataframe thead th {\n",
       "        text-align: right;\n",
       "    }\n",
       "</style>\n",
       "<table border=\"1\" class=\"dataframe\">\n",
       "  <thead>\n",
       "    <tr style=\"text-align: right;\">\n",
       "      <th></th>\n",
       "      <th>Label</th>\n",
       "      <th>Message</th>\n",
       "    </tr>\n",
       "  </thead>\n",
       "  <tbody>\n",
       "    <tr>\n",
       "      <th>0</th>\n",
       "      <td>ham</td>\n",
       "      <td>Go until jurong point, crazy.. Available only ...</td>\n",
       "    </tr>\n",
       "    <tr>\n",
       "      <th>1</th>\n",
       "      <td>ham</td>\n",
       "      <td>Ok lar... Joking wif u oni...</td>\n",
       "    </tr>\n",
       "    <tr>\n",
       "      <th>2</th>\n",
       "      <td>spam</td>\n",
       "      <td>Free entry in 2 a wkly comp to win FA Cup fina...</td>\n",
       "    </tr>\n",
       "    <tr>\n",
       "      <th>3</th>\n",
       "      <td>ham</td>\n",
       "      <td>U dun say so early hor... U c already then say...</td>\n",
       "    </tr>\n",
       "    <tr>\n",
       "      <th>4</th>\n",
       "      <td>ham</td>\n",
       "      <td>Nah I don't think he goes to usf, he lives aro...</td>\n",
       "    </tr>\n",
       "  </tbody>\n",
       "</table>\n",
       "</div>"
      ],
      "text/plain": [
       "  Label                                            Message\n",
       "0   ham  Go until jurong point, crazy.. Available only ...\n",
       "1   ham                      Ok lar... Joking wif u oni...\n",
       "2  spam  Free entry in 2 a wkly comp to win FA Cup fina...\n",
       "3   ham  U dun say so early hor... U c already then say...\n",
       "4   ham  Nah I don't think he goes to usf, he lives aro..."
      ]
     },
     "execution_count": 33,
     "metadata": {},
     "output_type": "execute_result"
    }
   ],
   "source": [
    "# Quick overview of the dataset\n",
    "data.head()"
   ]
  },
  {
   "cell_type": "code",
   "execution_count": 34,
   "metadata": {},
   "outputs": [
    {
     "data": {
      "text/plain": [
       "(5572, 2)"
      ]
     },
     "execution_count": 34,
     "metadata": {},
     "output_type": "execute_result"
    }
   ],
   "source": [
    "#count all rows\n",
    "data.shape"
   ]
  },
  {
   "cell_type": "code",
   "execution_count": 35,
   "metadata": {},
   "outputs": [
    {
     "data": {
      "text/plain": [
       "Label      0\n",
       "Message    0\n",
       "dtype: int64"
      ]
     },
     "execution_count": 35,
     "metadata": {},
     "output_type": "execute_result"
    }
   ],
   "source": [
    "# Check for missing values\n",
    "data.isnull().sum()"
   ]
  },
  {
   "cell_type": "code",
   "execution_count": 36,
   "metadata": {},
   "outputs": [],
   "source": [
    "# Tokenization and Stemming\n",
    "stop_words = set(stopwords.words('english'))\n",
    "stemmer = PorterStemmer()\n",
    "\n",
    "def preprocess_message(message):\n",
    "    tokens = word_tokenize(message)\n",
    "    tokens = [word.lower() for word in tokens if word.isalnum()]\n",
    "    tokens = [word for word in tokens if word not in stop_words]\n",
    "    tokens = [stemmer.stem(word) for word in tokens]\n",
    "    return ' '.join(tokens)\n",
    "\n",
    "data['Processed Message'] = data['Message'].apply(preprocess_message)"
   ]
  },
  {
   "cell_type": "code",
   "execution_count": 37,
   "metadata": {},
   "outputs": [
    {
     "name": "stdout",
     "output_type": "stream",
     "text": [
      "Label\n",
      "ham     4825\n",
      "spam     747\n",
      "Name: count, dtype: int64\n"
     ]
    },
    {
     "data": {
      "text/plain": [
       "Label\n",
       "ham     0.865937\n",
       "spam    0.134063\n",
       "Name: proportion, dtype: float64"
      ]
     },
     "execution_count": 37,
     "metadata": {},
     "output_type": "execute_result"
    }
   ],
   "source": [
    "# Class distribution\n",
    "class_counts = data['Label'].value_counts()\n",
    "print(class_counts)\n",
    "\n",
    "#add percentage\n",
    "class_counts_perc = data['Label'].value_counts(normalize=True)\n",
    "class_counts_perc"
   ]
  },
  {
   "cell_type": "code",
   "execution_count": 38,
   "metadata": {},
   "outputs": [
    {
     "data": {
      "image/png": "[encoded data removed]",
      "text/plain": [
       "<Figure size 800x600 with 1 Axes>"
      ]
     },
     "metadata": {},
     "output_type": "display_data"
    }
   ],
   "source": [
    "# Visualize class distribution\n",
    "plt.figure(figsize=(8, 6))\n",
    "plt.bar(class_counts.index, class_counts.values, color=['skyblue', 'orange'])\n",
    "plt.title('Class Distribution: Ham vs. Spam')\n",
    "plt.ylabel('Count')\n",
    "plt.xticks(rotation=0)\n",
    "for i, v in enumerate(class_counts_perc\n",
    "):\n",
    "    plt.text(i, v*class_counts.max(), f'{v:.2%}', color='black', va='bottom', ha='center')  \n",
    "plt.savefig('../evaluation/class_distribution.png')\n",
    "plt.show()\n"
   ]
  },
  {
   "cell_type": "code",
   "execution_count": 39,
   "metadata": {},
   "outputs": [],
   "source": [
    "# Message length analysis\n",
    "data['Message Length'] = data['Message'].apply(len)"
   ]
  },
  {
   "cell_type": "code",
   "execution_count": 40,
   "metadata": {},
   "outputs": [
    {
     "data": {
      "image/png": "[encoded data removed]",
      "text/plain": [
       "<Figure size 1000x600 with 1 Axes>"
      ]
     },
     "metadata": {},
     "output_type": "display_data"
    }
   ],
   "source": [
    "# Visualize message length distribution\n",
    "plt.figure(figsize=(10, 6))\n",
    "for label in data['Label'].unique():\n",
    "    subset = data[data['Label'] == label]\n",
    "    plt.hist(subset['Message Length'], bins=30, alpha=0.5, label=label)\n",
    "plt.title('Message Length Distribution by Class')\n",
    "plt.xlabel('Message Length')\n",
    "plt.ylabel('Frequency')\n",
    "plt.legend()\n",
    "plt.savefig('../evaluation/message_length.png')\n",
    "plt.show()"
   ]
  },
  {
   "cell_type": "code",
   "execution_count": 41,
   "metadata": {},
   "outputs": [
    {
     "data": {
      "text/html": [
       "<div>\n",
       "<style scoped>\n",
       "    .dataframe tbody tr th:only-of-type {\n",
       "        vertical-align: middle;\n",
       "    }\n",
       "\n",
       "    .dataframe tbody tr th {\n",
       "        vertical-align: top;\n",
       "    }\n",
       "\n",
       "    .dataframe thead th {\n",
       "        text-align: right;\n",
       "    }\n",
       "</style>\n",
       "<table border=\"1\" class=\"dataframe\">\n",
       "  <thead>\n",
       "    <tr style=\"text-align: right;\">\n",
       "      <th></th>\n",
       "      <th>count</th>\n",
       "      <th>mean</th>\n",
       "      <th>std</th>\n",
       "      <th>min</th>\n",
       "      <th>25%</th>\n",
       "      <th>50%</th>\n",
       "      <th>75%</th>\n",
       "      <th>max</th>\n",
       "    </tr>\n",
       "    <tr>\n",
       "      <th>Label</th>\n",
       "      <th></th>\n",
       "      <th></th>\n",
       "      <th></th>\n",
       "      <th></th>\n",
       "      <th></th>\n",
       "      <th></th>\n",
       "      <th></th>\n",
       "      <th></th>\n",
       "    </tr>\n",
       "  </thead>\n",
       "  <tbody>\n",
       "    <tr>\n",
       "      <th>ham</th>\n",
       "      <td>4825.0</td>\n",
       "      <td>71.482487</td>\n",
       "      <td>58.440652</td>\n",
       "      <td>2.0</td>\n",
       "      <td>33.0</td>\n",
       "      <td>52.0</td>\n",
       "      <td>93.0</td>\n",
       "      <td>910.0</td>\n",
       "    </tr>\n",
       "    <tr>\n",
       "      <th>spam</th>\n",
       "      <td>747.0</td>\n",
       "      <td>138.670683</td>\n",
       "      <td>28.873603</td>\n",
       "      <td>13.0</td>\n",
       "      <td>133.0</td>\n",
       "      <td>149.0</td>\n",
       "      <td>157.0</td>\n",
       "      <td>223.0</td>\n",
       "    </tr>\n",
       "  </tbody>\n",
       "</table>\n",
       "</div>"
      ],
      "text/plain": [
       "        count        mean        std   min    25%    50%    75%    max\n",
       "Label                                                                 \n",
       "ham    4825.0   71.482487  58.440652   2.0   33.0   52.0   93.0  910.0\n",
       "spam    747.0  138.670683  28.873603  13.0  133.0  149.0  157.0  223.0"
      ]
     },
     "execution_count": 41,
     "metadata": {},
     "output_type": "execute_result"
    }
   ],
   "source": [
    "# Message length statistics by class\n",
    "data.groupby('Label')['Message Length'].describe()"
   ]
  },
  {
   "cell_type": "code",
   "execution_count": 42,
   "metadata": {},
   "outputs": [],
   "source": [
    "# WordCloud visualization for Spam and Ham\n",
    "spam_words = ' '.join(data[data['Label'] == 'spam']['Processed Message'])\n",
    "ham_words = ' '.join(data[data['Label'] == 'ham']['Processed Message'])\n",
    "\n",
    "# Split the concatenated string into individual words\n",
    "spam_words_list = spam_words.split()\n",
    "ham_words_list = ham_words.split()"
   ]
  },
  {
   "cell_type": "code",
   "execution_count": 43,
   "metadata": {},
   "outputs": [
    {
     "data": {
      "image/png": "[encoded data removed]",
      "text/plain": [
       "<Figure size 1000x600 with 1 Axes>"
      ]
     },
     "metadata": {},
     "output_type": "display_data"
    }
   ],
   "source": [
    "# Top 20 words for Spam\n",
    "spam_word_counts = Counter(spam_words_list).most_common(20)\n",
    "spam_words, spam_counts = zip(*spam_word_counts)\n",
    "plt.figure(figsize=(10, 6))\n",
    "plt.barh(spam_words, spam_counts, color='red')\n",
    "plt.title('Top 20 Words in Spam Messages')\n",
    "plt.xlabel('Frequency')\n",
    "plt.gca().invert_yaxis()\n",
    "plt.savefig('../evaluation/top20_spam.png')\n",
    "plt.show()"
   ]
  },
  {
   "cell_type": "code",
   "execution_count": 44,
   "metadata": {},
   "outputs": [
    {
     "data": {
      "image/png": "[encoded data removed]",
      "text/plain": [
       "<Figure size 1000x600 with 1 Axes>"
      ]
     },
     "metadata": {},
     "output_type": "display_data"
    }
   ],
   "source": [
    "# Top 20 words for Ham\n",
    "ham_word_counts = Counter(ham_words_list).most_common(20)\n",
    "ham_words, ham_counts = zip(*ham_word_counts)\n",
    "plt.figure(figsize=(10, 6))\n",
    "plt.barh(ham_words, ham_counts, color='green')\n",
    "plt.title('Top 20 Words in Ham Messages')\n",
    "plt.xlabel('Frequency')\n",
    "plt.gca().invert_yaxis()\n",
    "plt.savefig('../evaluation/top20_ham.png')\n",
    "plt.show()"
   ]
  },
  {
   "cell_type": "code",
   "execution_count": 45,
   "metadata": {},
   "outputs": [],
   "source": [
    "# Convert text to numerical format using TF-IDF\n",
    "vectorizer = TfidfVectorizer()\n",
    "X = vectorizer.fit_transform(data['Processed Message'])\n",
    "y = data['Label']\n",
    "\n",
    "# Encode labels\n",
    "data['Label'] = data['Label'].map({'ham': 0, 'spam': 1})\n",
    "y = data['Label']"
   ]
  },
  {
   "cell_type": "code",
   "execution_count": 46,
   "metadata": {},
   "outputs": [],
   "source": [
    "# Apply Oversampling or Undersampling if necessary\n",
    "oversampler = RandomOverSampler(random_state=42)\n",
    "X_resampled, y_resampled = oversampler.fit_resample(X, y)"
   ]
  },
  {
   "cell_type": "code",
   "execution_count": 47,
   "metadata": {},
   "outputs": [
    {
     "name": "stdout",
     "output_type": "stream",
     "text": [
      "\n",
      "Class Balance After Oversampling:\n",
      "Label\n",
      "0    4825\n",
      "1    4825\n",
      "Name: count, dtype: int64\n"
     ]
    }
   ],
   "source": [
    "print(\"\\nClass Balance After Oversampling:\")\n",
    "print(pd.Series(y_resampled).value_counts())"
   ]
  },
  {
   "cell_type": "code",
   "execution_count": 48,
   "metadata": {},
   "outputs": [
    {
     "name": "stdout",
     "output_type": "stream",
     "text": [
      "Analysis complete. Summary saved to 'data_summary.txt'.\n"
     ]
    }
   ],
   "source": [
    "with open('../evaluation/data_summary.txt', 'w') as f:\n",
    "    f.write(\"Dataset Overview:\\n\")\n",
    "    f.write(str(data.head()))\n",
    "    f.write(\"\\n\\nTotal Rows:\\n\")\n",
    "    f.write(str(data.shape))\n",
    "    f.write(\"\\n\\nMissing Values:\\n\")\n",
    "    f.write(str(data.isnull().sum()))\n",
    "    f.write(\"\\n\\nClass Distribution before Sampling:\\n\")\n",
    "    f.write(str(class_counts))\n",
    "    f.write(\"\\n\\nClass Distribution (%) before Sampling:\\n\")\n",
    "    f.write(str(class_counts_perc))\n",
    "    f.write(\"\\n\\nClass Balance After Oversampling:\\n\")\n",
    "    f.write(str(pd.Series(y_resampled).value_counts()))\n",
    "    f.write(\"\\n\\nMessage Length Statistics:\\n\")\n",
    "    f.write(str(data['Message Length'].describe()))\n",
    "    f.write(\"\\n\\nTop 20 Words in Spam Messages:\\n\")\n",
    "    f.write(str(spam_word_counts))\n",
    "    f.write(\"\\n\\nTop 20 Words in Ham Messages:\\n\")\n",
    "    f.write(str(ham_word_counts))\n",
    "\n",
    "print(\"Analysis complete. Summary saved to 'data_summary.txt'.\")"
   ]
  },
  {
   "cell_type": "code",
   "execution_count": 49,
   "metadata": {},
   "outputs": [],
   "source": [
    "#train test split\n",
    "X_train, X_test, y_train, y_test = train_test_split(X_resampled, y_resampled, test_size=0.2, random_state=42)"
   ]
  },
  {
   "cell_type": "code",
   "execution_count": 50,
   "metadata": {},
   "outputs": [
    {
     "name": "stdout",
     "output_type": "stream",
     "text": [
      "\n",
      "Training and evaluating: Logistic Regression\n",
      "\n",
      "Classification Report:\n",
      "              precision    recall  f1-score   support\n",
      "\n",
      "           0       0.98      0.99      0.99       990\n",
      "           1       0.99      0.98      0.99       940\n",
      "\n",
      "    accuracy                           0.99      1930\n",
      "   macro avg       0.99      0.99      0.99      1930\n",
      "weighted avg       0.99      0.99      0.99      1930\n",
      "\n",
      "\n",
      "Confusion Matrix:\n",
      "[[980  10]\n",
      " [ 15 925]]\n",
      "\n",
      "Accuracy Score: 0.9870466321243523\n",
      "\n",
      "\n",
      "Training and evaluating: Naive Bayes\n",
      "\n",
      "Classification Report:\n",
      "              precision    recall  f1-score   support\n",
      "\n",
      "           0       0.98      0.97      0.98       990\n",
      "           1       0.97      0.98      0.98       940\n",
      "\n",
      "    accuracy                           0.98      1930\n",
      "   macro avg       0.98      0.98      0.98      1930\n",
      "weighted avg       0.98      0.98      0.98      1930\n",
      "\n",
      "\n",
      "Confusion Matrix:\n",
      "[[958  32]\n",
      " [ 15 925]]\n",
      "\n",
      "Accuracy Score: 0.9756476683937824\n",
      "\n",
      "\n",
      "Training and evaluating: Random Forest\n",
      "\n",
      "Classification Report:\n",
      "              precision    recall  f1-score   support\n",
      "\n",
      "           0       1.00      1.00      1.00       990\n",
      "           1       1.00      1.00      1.00       940\n",
      "\n",
      "    accuracy                           1.00      1930\n",
      "   macro avg       1.00      1.00      1.00      1930\n",
      "weighted avg       1.00      1.00      1.00      1930\n",
      "\n",
      "\n",
      "Confusion Matrix:\n",
      "[[990   0]\n",
      " [  0 940]]\n",
      "\n",
      "Accuracy Score: 1.0\n",
      "\n",
      "\n",
      "Training and evaluating: XGBoost\n"
     ]
    },
    {
     "name": "stderr",
     "output_type": "stream",
     "text": [
      "/opt/anaconda3/lib/python3.12/site-packages/xgboost/core.py:158: UserWarning: [15:32:31] WARNING: /Users/runner/work/xgboost/xgboost/src/learner.cc:740: \n",
      "Parameters: { \"use_label_encoder\" } are not used.\n",
      "\n",
      "  warnings.warn(smsg, UserWarning)\n"
     ]
    },
    {
     "name": "stdout",
     "output_type": "stream",
     "text": [
      "\n",
      "Classification Report:\n",
      "              precision    recall  f1-score   support\n",
      "\n",
      "           0       0.99      0.99      0.99       990\n",
      "           1       0.99      0.99      0.99       940\n",
      "\n",
      "    accuracy                           0.99      1930\n",
      "   macro avg       0.99      0.99      0.99      1930\n",
      "weighted avg       0.99      0.99      0.99      1930\n",
      "\n",
      "\n",
      "Confusion Matrix:\n",
      "[[981   9]\n",
      " [  6 934]]\n",
      "\n",
      "Accuracy Score: 0.9922279792746114\n",
      "\n"
     ]
    }
   ],
   "source": [
    "# Initialize models\n",
    "models = {\n",
    "    'Logistic Regression': LogisticRegression(random_state=42),\n",
    "    'Naive Bayes': MultinomialNB(),\n",
    "    'Random Forest': RandomForestClassifier(random_state=42, n_estimators=100),\n",
    "    'XGBoost': XGBClassifier(use_label_encoder=False, eval_metric='logloss', random_state=42)\n",
    "}\n",
    "\n",
    "# Train and evaluate each model\n",
    "results = {}\n",
    "for model_name, model in models.items():\n",
    "    print(f\"\\nTraining and evaluating: {model_name}\")\n",
    "    model.fit(X_train, y_train)\n",
    "    y_pred = model.predict(X_test)\n",
    "    accuracy = accuracy_score(y_test, y_pred)\n",
    "    results[model_name] = accuracy\n",
    "\n",
    "    print(\"\\nClassification Report:\")\n",
    "    print(classification_report(y_test, y_pred))\n",
    "    print(\"\\nConfusion Matrix:\")\n",
    "    print(confusion_matrix(y_test, y_pred))\n",
    "    print(f\"\\nAccuracy Score: {accuracy}\\n\")"
   ]
  },
  {
   "cell_type": "code",
   "execution_count": 51,
   "metadata": {},
   "outputs": [
    {
     "name": "stdout",
     "output_type": "stream",
     "text": [
      "Best model: Random Forest with accuracy 1.0\n"
     ]
    }
   ],
   "source": [
    "# Save comparison results\n",
    "with open('../evaluation/model_comparison_results.txt', 'w') as f:\n",
    "    for model_name, accuracy in results.items():\n",
    "        f.write(f\"{model_name}: {accuracy}\\n\")\n",
    "\n",
    "# Identify the best model\n",
    "best_model = max(results, key=results.get)\n",
    "print(f\"Best model: {best_model} with accuracy {results[best_model]}\")"
   ]
  },
  {
   "cell_type": "code",
   "execution_count": 52,
   "metadata": {},
   "outputs": [
    {
     "name": "stdout",
     "output_type": "stream",
     "text": [
      "Model training and evaluation complete. Results saved to 'model_comparison_results.txt' and 'best_model_results.txt'.\n"
     ]
    }
   ],
   "source": [
    "# Save the best model results to a file\n",
    "with open('../evaluation/best_model_results.txt', 'w') as f:\n",
    "    f.write(f\"Best Model: {best_model}\\n\")\n",
    "    f.write(f\"Accuracy: {results[best_model]}\\n\")\n",
    "\n",
    "print(\"Model training and evaluation complete. Results saved to 'model_comparison_results.txt' and 'best_model_results.txt'.\")\n"
   ]
  },
  {
   "cell_type": "code",
   "execution_count": 53,
   "metadata": {},
   "outputs": [
    {
     "name": "stdout",
     "output_type": "stream",
     "text": [
      "Best model saved as 'spam_classifier.pkl'.\n"
     ]
    }
   ],
   "source": [
    "#save best model\n",
    "joblib.dump(models[best_model], '../models/spam_classifier.pkl')\n",
    "print(\"Best model saved as 'spam_classifier.pkl'.\")"
   ]
  },
  {
   "cell_type": "code",
   "execution_count": 54,
   "metadata": {},
   "outputs": [],
   "source": [
    "# Predict probabilities\n",
    "y_prob = model.predict_proba(X_test)[:, 1]\n",
    "y_pred = model.predict(X_test)"
   ]
  },
  {
   "cell_type": "code",
   "execution_count": 55,
   "metadata": {},
   "outputs": [
    {
     "name": "stdout",
     "output_type": "stream",
     "text": [
      "\n",
      "Low-Risk Threshold Evaluation:\n",
      "              precision    recall  f1-score   support\n",
      "\n",
      "           0       0.89      1.00      0.94       990\n",
      "           1       1.00      0.88      0.93       940\n",
      "\n",
      "    accuracy                           0.94      1930\n",
      "   macro avg       0.95      0.94      0.94      1930\n",
      "weighted avg       0.95      0.94      0.94      1930\n",
      "\n",
      "\n",
      "High-Risk Threshold Evaluation:\n",
      "              precision    recall  f1-score   support\n",
      "\n",
      "           0       0.99      0.99      0.99       990\n",
      "           1       0.99      0.99      0.99       940\n",
      "\n",
      "    accuracy                           0.99      1930\n",
      "   macro avg       0.99      0.99      0.99      1930\n",
      "weighted avg       0.99      0.99      0.99      1930\n",
      "\n"
     ]
    }
   ],
   "source": [
    "# Define thresholds for risk levels\n",
    "low_risk_threshold = 0.9  # High threshold for low risk\n",
    "high_risk_threshold = 0.5  # Lower threshold for high risk\n",
    "\n",
    "# Adjust predictions based on thresholds\n",
    "low_risk_predictions = (y_prob > low_risk_threshold).astype(int)\n",
    "high_risk_predictions = (y_prob > high_risk_threshold).astype(int)\n",
    "\n",
    "# Evaluate thresholds\n",
    "print(\"\\nLow-Risk Threshold Evaluation:\")\n",
    "print(classification_report(y_test, low_risk_predictions))\n",
    "print(\"\\nHigh-Risk Threshold Evaluation:\")\n",
    "print(classification_report(y_test, high_risk_predictions))"
   ]
  },
  {
   "cell_type": "code",
   "execution_count": 56,
   "metadata": {},
   "outputs": [
    {
     "data": {
      "image/png": "[encoded data removed]",
      "text/plain": [
       "<Figure size 1000x600 with 1 Axes>"
      ]
     },
     "metadata": {},
     "output_type": "display_data"
    }
   ],
   "source": [
    "# Plot ROC Curve\n",
    "fpr, tpr, _ = roc_curve(y_test, y_prob)\n",
    "roc_auc = auc(fpr, tpr)\n",
    "\n",
    "plt.figure(figsize=(10, 6))\n",
    "plt.plot(fpr, tpr, color='blue', label=f'ROC Curve (AUC = {roc_auc:.2f})')\n",
    "plt.plot([0, 1], [0, 1], color='red', linestyle='--')\n",
    "plt.title('Receiver Operating Characteristic (ROC) Curve - Random Forest')\n",
    "plt.xlabel('False Positive Rate')\n",
    "plt.ylabel('True Positive Rate')\n",
    "plt.legend(loc='lower right')\n",
    "plt.savefig('../evaluation/roc_curve_random_forest.png')\n",
    "plt.show()"
   ]
  },
  {
   "cell_type": "code",
   "execution_count": 60,
   "metadata": {},
   "outputs": [
    {
     "name": "stdout",
     "output_type": "stream",
     "text": [
      "(6,)\n",
      "(9,)\n",
      "\n",
      "False Negatives (Spam classified as Ham):\n",
      "                                                Message  Probability\n",
      "86    For real when u getting on yo? I only need 2 m...     0.431241\n",
      "267     Not sure yet, still trying to get a hold of him     0.035046\n",
      "938                            K:)k.are you in college?     0.035046\n",
      "1166        Haha yeah I see that now, be there in a sec     0.431241\n",
      "1181                         I'm in chennai velachery:)     0.431241\n",
      "1207  As a SIM subscriber, you are selected to recei...     0.035046\n",
      "\n",
      "False Positives (Ham classified as Spam):\n",
      "                                                Message  Probability\n",
      "561                          Hi msg me:)i'm in office..     0.507785\n",
      "717   +449071512431 URGENT! This is the 2nd attempt ...     0.554094\n",
      "860             Did he just say somebody is named tampa     0.587249\n",
      "872   Its going good...no problem..but still need li...     0.881164\n",
      "1142  I don't know u and u don't know me. Send CHAT ...     0.553824\n",
      "1201           Otherwise had part time job na-tuition..     0.803225\n",
      "1361  Yo dude guess who just got arrested the other day     0.800346\n",
      "1495  It has everything to do with the weather. Keep...     0.652590\n",
      "1636  You have come into my life and brought the sun...     0.749796\n"
     ]
    }
   ],
   "source": [
    "# Analyze misclassifications\n",
    "false_negatives = np.where((y_test == 1) & (y_pred == 0))[0]\n",
    "false_positives = np.where((y_test == 0) & (y_pred == 1))[0]\n",
    "\n",
    "\n",
    "print (false_negatives.shape)\n",
    "print(false_positives.shape)\n",
    "\n",
    "if len(false_negatives) == 0 and len(false_positives) == 0:\n",
    "    print(\"\\nNo misclassifications found.\")\n",
    "else:\n",
    "    # Extract misclassified messages with probabilities\n",
    "    false_negative_messages = pd.DataFrame({\n",
    "        'Message': data.iloc[false_negatives]['Message'],\n",
    "        'Probability': y_prob[false_negatives]\n",
    "    })\n",
    "    false_positive_messages = pd.DataFrame({\n",
    "        'Message': data.iloc[false_positives]['Message'],\n",
    "        'Probability': y_prob[false_positives]\n",
    "    })\n",
    "\n",
    "    print(\"\\nFalse Negatives (Spam classified as Ham):\")\n",
    "    print(false_negative_messages)\n",
    "    print(\"\\nFalse Positives (Ham classified as Spam):\")\n",
    "    print(false_positive_messages)"
   ]
  },
  {
   "cell_type": "code",
   "execution_count": 63,
   "metadata": {},
   "outputs": [
    {
     "name": "stdout",
     "output_type": "stream",
     "text": [
      "\n",
      "Common Words in False Negatives:\n",
      "to             5\n",
      "a              4\n",
      "in             3\n",
      "I              3\n",
      "you            2\n",
      "and            2\n",
      "I'm            2\n",
      "more           2\n",
      "are            1\n",
      "subscriber,    1\n",
      "Name: count, dtype: int64\n",
      "\n",
      "Common Words in False Positives:\n",
      "and      4\n",
      "the      4\n",
      "to       4\n",
      "my       3\n",
      "u        2\n",
      "know     2\n",
      "don't    2\n",
      "have     2\n",
      "on       2\n",
      "is       2\n",
      "Name: count, dtype: int64\n",
      "\n",
      "Average Message Length in False Negatives: 68.16666666666667\n",
      "Average Message Length in False Positives: 94.0\n",
      "\n",
      "Exclamation Marks in False Negatives: 1\n",
      "Exclamation Marks in False Positives: 3\n",
      "\n",
      "Uppercase Words in False Negatives: 3\n",
      "Uppercase Words in False Positives: 10\n"
     ]
    }
   ],
   "source": [
    "    # Identify common patterns in misclassified messages\n",
    "    def find_common_words(messages):\n",
    "        all_words = ' '.join(messages).split()\n",
    "        word_counts = pd.Series(all_words).value_counts().head(10)\n",
    "        return word_counts\n",
    "\n",
    "    def calculate_average_length(messages):\n",
    "        return messages.apply(len).mean()\n",
    "\n",
    "    def count_patterns(messages, pattern):\n",
    "        return messages.apply(lambda x: len(re.findall(pattern, x))).sum()\n",
    "\n",
    "    common_false_negatives = find_common_words(false_negative_messages['Message'])\n",
    "    common_false_positives = find_common_words(false_positive_messages['Message'])\n",
    "\n",
    "    avg_length_false_negatives = calculate_average_length(false_negative_messages['Message'])\n",
    "    avg_length_false_positives = calculate_average_length(false_positive_messages['Message'])\n",
    "\n",
    "    exclamation_count_false_negatives = count_patterns(false_negative_messages['Message'], r'!')\n",
    "    exclamation_count_false_positives = count_patterns(false_positive_messages['Message'], r'!')\n",
    "\n",
    "    uppercase_count_false_negatives = count_patterns(false_negative_messages['Message'], r'[A-Z]{2,}')\n",
    "    uppercase_count_false_positives = count_patterns(false_positive_messages['Message'], r'[A-Z]{2,}')\n",
    "\n",
    "    print(\"\\nCommon Words in False Negatives:\")\n",
    "    print(common_false_negatives)\n",
    "\n",
    "    print(\"\\nCommon Words in False Positives:\")\n",
    "    print(common_false_positives)\n",
    "\n",
    "    print(f\"\\nAverage Message Length in False Negatives: {avg_length_false_negatives}\")\n",
    "    print(f\"Average Message Length in False Positives: {avg_length_false_positives}\")\n",
    "\n",
    "    print(f\"\\nExclamation Marks in False Negatives: {exclamation_count_false_negatives}\")\n",
    "    print(f\"Exclamation Marks in False Positives: {exclamation_count_false_positives}\")\n",
    "\n",
    "    print(f\"\\nUppercase Words in False Negatives: {uppercase_count_false_negatives}\")\n",
    "    print(f\"Uppercase Words in False Positives: {uppercase_count_false_positives}\")\n"
   ]
  },
  {
   "cell_type": "code",
   "execution_count": 64,
   "metadata": {},
   "outputs": [
    {
     "name": "stdout",
     "output_type": "stream",
     "text": [
      "Threshold evaluations, ROC Curve, and misclassification analysis complete. Results saved to 'risk_threshold_evaluation_random_forest.txt' and 'roc_curve_random_forest.png'.\n"
     ]
    }
   ],
   "source": [
    "# Save comparison results\n",
    "with open('../evaluation/risk_threshold_evaluation_random_forest.txt', 'w') as f:\n",
    "    f.write(\"Low-Risk Threshold Evaluation:\\n\")\n",
    "    f.write(classification_report(y_test, low_risk_predictions))\n",
    "    f.write(\"\\nHigh-Risk Threshold Evaluation:\\n\")\n",
    "    f.write(classification_report(y_test, high_risk_predictions))\n",
    "    if len(false_negatives) == 0 and len(false_positives) == 0:\n",
    "        f.write(\"\\nNo misclassifications found.\\n\")\n",
    "    else:\n",
    "        f.write(\"\\n\\nFalse Negatives (Spam classified as Ham):\\n\")\n",
    "        f.write(false_negative_messages.to_string())\n",
    "        f.write(\"\\n\\nFalse Positives (Ham classified as Spam):\\n\")\n",
    "        f.write(false_positive_messages.to_string())\n",
    "        f.write(\"\\n\\nCommon Words in False Negatives:\\n\")\n",
    "        f.write(str(common_false_negatives))\n",
    "        f.write(\"\\n\\nCommon Words in False Positives:\\n\")\n",
    "        f.write(str(common_false_positives))\n",
    "        f.write(f\"\\n\\nAverage Message Length in False Negatives: {avg_length_false_negatives}\\n\")\n",
    "        f.write(f\"Average Message Length in False Positives: {avg_length_false_positives}\\n\")\n",
    "        f.write(f\"\\nExclamation Marks in False Negatives: {exclamation_count_false_negatives}\\n\")\n",
    "        f.write(f\"Exclamation Marks in False Positives: {exclamation_count_false_positives}\\n\")\n",
    "        f.write(f\"\\nUppercase Words in False Negatives: {uppercase_count_false_negatives}\\n\")\n",
    "        f.write(f\"Uppercase Words in False Positives: {uppercase_count_false_positives}\\n\")\n",
    "\n",
    "print(\"Threshold evaluations, ROC Curve, and misclassification analysis complete. Results saved to 'risk_threshold_evaluation_random_forest.txt' and 'roc_curve_random_forest.png'.\")\n"
   ]
  }
 ],
 "metadata": {
  "kernelspec": {
   "display_name": "base",
   "language": "python",
   "name": "python3"
  },
  "language_info": {
   "codemirror_mode": {
    "name": "ipython",
    "version": 3
   },
   "file_extension": ".py",
   "mimetype": "text/x-python",
   "name": "python",
   "nbconvert_exporter": "python",
   "pygments_lexer": "ipython3",
   "version": "3.12.4"
  }
 },
 "nbformat": 4,
 "nbformat_minor": 2
}
